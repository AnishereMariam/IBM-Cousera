{
 "cells": [
  {
   "cell_type": "markdown",
   "metadata": {},
   "source": [
    "<center>\n",
    "    <img src=\"https://cf-courses-data.s3.us.cloud-object-storage.appdomain.cloud/IBMDeveloperSkillsNetwork-DS0105EN-SkillsNetwork/labs/Module2/images/SN_web_lightmode.png\" width=\"300\" alt=\"cognitiveclass.ai logo\"  />\n",
    "</center>\n"
   ]
  },
  {
   "cell_type": "markdown",
   "metadata": {},
   "source": [
    "#### Add your code below following the instructions given in the course\n"
   ]
  },
  {
   "cell_type": "markdown",
   "metadata": {},
   "source": [
    "# My Jupyter Notebook on IBM Watson Studio"
   ]
  },
  {
   "cell_type": "markdown",
   "metadata": {},
   "source": [
    "## **Anishere Mariam**\n",
    "### Data Analyst/Data Scientist"
   ]
  },
  {
   "cell_type": "markdown",
   "metadata": {},
   "source": [
    "### *I am interest in Data Science because I am passionate about using data to solve problems like limiting the impacts of disasters and death, amongst others all around the world*"
   ]
  },
  {
   "cell_type": "markdown",
   "metadata": {},
   "source": [
    "### The code below is to find the percentage of apple in a basket of fruit"
   ]
  },
  {
   "cell_type": "code",
   "execution_count": 3,
   "metadata": {},
   "outputs": [
    {
     "name": "stdout",
     "output_type": "stream",
     "text": [
      "The percentage of apple in the basket is 32.0%\n"
     ]
    }
   ],
   "source": [
    "orange = 10\n",
    "apple = 8\n",
    "banana = 7\n",
    "# find percentage of apple in the basket\n",
    "total = orange + apple + banana\n",
    "app_per = (apple/total)*100\n",
    "print(\"The percentage of apple in the basket is {}%\".format(app_per))"
   ]
  },
  {
   "cell_type": "markdown",
   "metadata": {},
   "source": [
    "## Check my [portfolio]( for some of my Projects\n",
    "# <a href = \"http://anisheremariam.github.io/profile\">Anishere's Portfolio</a>\n",
    "\n",
    "## My Skills are listed below:\n",
    "* Python\n",
    "* SQL\n",
    "* Excel\n",
    "* R(beginner)\n",
    "\n",
    "## My hobbies are listed below:\n",
    "1. Movies\n",
    "2. Music\n",
    "3. Games"
   ]
  },
  {
   "cell_type": "code",
   "execution_count": null,
   "metadata": {},
   "outputs": [],
   "source": []
  }
 ],
 "metadata": {
  "kernelspec": {
   "display_name": "Python",
   "language": "python",
   "name": "conda-env-python-py"
  },
  "language_info": {
   "codemirror_mode": {
    "name": "ipython",
    "version": 3
   },
   "file_extension": ".py",
   "mimetype": "text/x-python",
   "name": "python",
   "nbconvert_exporter": "python",
   "pygments_lexer": "ipython3",
   "version": "3.7.12"
  }
 },
 "nbformat": 4,
 "nbformat_minor": 4
}
